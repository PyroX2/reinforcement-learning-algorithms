{
 "cells": [
  {
   "cell_type": "code",
   "execution_count": 13,
   "id": "b8232429",
   "metadata": {},
   "outputs": [],
   "source": [
    "import torch\n",
    "from torch import nn\n",
    "import gymnasium as gym\n",
    "import math\n",
    "import numpy as np"
   ]
  },
  {
   "cell_type": "code",
   "execution_count": 102,
   "id": "4bf114b9",
   "metadata": {},
   "outputs": [],
   "source": [
    "EPS_START = 0.9\n",
    "EPS_END = 0.01\n",
    "EPS_DECAY = 3000\n",
    "\n",
    "BATCH_SIZE = 128\n",
    "MAX_MEMORY_LENGTH = 10_000\n",
    "GAMMA = 0.99\n",
    "TAU = 0.005\n",
    "\n",
    "NUM_STEPS = 1_000_000\n",
    "LEARNING_RATE = 1e-4\n",
    "NUM_STEPS_TO_AVERAGE = 10"
   ]
  },
  {
   "cell_type": "code",
   "execution_count": null,
   "id": "31dfaaf9",
   "metadata": {},
   "outputs": [],
   "source": [
    "class DQN(nn.Module):\n",
    "    def __init__(self, obs_space, action_space):\n",
    "        super().__init__()\n",
    "\n",
    "        # Maps quality of each action at given state\n",
    "        self.fc = nn.Sequential(nn.Linear(obs_space, 128),\n",
    "                                nn.ReLU(),\n",
    "                                nn.Linear(128, 128),\n",
    "                                nn.ReLU(),\n",
    "                                nn.Linear(128, action_space))\n",
    "\n",
    "    def forward(self, state):\n",
    "        return self.fc(state)"
   ]
  },
  {
   "cell_type": "code",
   "execution_count": null,
   "id": "262d910a",
   "metadata": {},
   "outputs": [],
   "source": [
    "class ReplayBuffer:\n",
    "    def __init__(self, max_size):\n",
    "        self._max_size = max_size\n",
    "\n",
    "        # Memory for storing transitions\n",
    "        self._memory = {\"state\": [],\n",
    "                       \"action\": [],\n",
    "                       \"new_state\": [],\n",
    "                       \"reward\": []}\n",
    "\n",
    "    def get_batch(self, batch_size):\n",
    "        if batch_size > len(self._memory[\"state\"]):\n",
    "            raise ValueError(\"Batch size must be smaller than the memory length\")\n",
    "\n",
    "        batch_indices = torch.randperm(len(self._memory[\"state\"]))[:batch_size]\n",
    "\n",
    "        states = torch.tensor(np.array(self._memory[\"state\"]))[batch_indices]\n",
    "        actions = torch.tensor(np.array(self._memory[\"action\"]))[batch_indices]\n",
    "        new_states = torch.tensor(np.array(self._memory[\"new_state\"]))[batch_indices]\n",
    "        rewards = torch.tensor(np.array(self._memory[\"reward\"]))[batch_indices]\n",
    "\n",
    "        return states, actions, new_states, rewards\n",
    "    \n",
    "    def update(self, state, action, new_state, reward):\n",
    "        self._memory[\"state\"].append(state)\n",
    "        self._memory[\"action\"].append(action)\n",
    "        self._memory[\"new_state\"].append(new_state)\n",
    "        self._memory[\"reward\"].append(reward)\n",
    "\n",
    "        if len(self._memory[\"state\"]) > self._max_size:\n",
    "            self._memory[\"state\"].pop(0)\n",
    "            self._memory[\"action\"].pop(0)\n",
    "            self._memory[\"new_state\"].pop(0)\n",
    "            self._memory[\"reward\"].pop(0)\n",
    "\n",
    "    def __len__(self):\n",
    "        return len(self._memory[\"state\"])"
   ]
  },
  {
   "cell_type": "code",
   "execution_count": null,
   "id": "6aea6bde",
   "metadata": {},
   "outputs": [],
   "source": [
    "def get_action(state, policy_network, action_space, eps_threshold):\n",
    "    if torch.rand(1).item() > eps_threshold:\n",
    "        actions = policy_network(state)\n",
    "        return torch.argmax(actions).item()\n",
    "    else:\n",
    "        return torch.randint(action_space, (1,)).item()"
   ]
  },
  {
   "cell_type": "code",
   "execution_count": null,
   "id": "46903df5",
   "metadata": {},
   "outputs": [],
   "source": [
    "def optimize_model(replay_buffer: ReplayBuffer, \n",
    "                   policy_network: torch.nn.Module, \n",
    "                   target_network: torch.nn.Module, \n",
    "                   optimizer: torch.optim.Adam, \n",
    "                   criterion: nn.SmoothL1Loss) -> None:\n",
    "    optimizer.zero_grad()\n",
    "    \n",
    "    state_tensor, action_tensor, new_state_tensor, reward_tensor = replay_buffer.get_batch(BATCH_SIZE)\n",
    "\n",
    "    # Get current q values for each action taken given a state\n",
    "    q_values_for_actions_taken = policy_network(state_tensor).gather(1, action_tensor.reshape(-1, 1))\n",
    "\n",
    "    expected_q_values = GAMMA*torch.max(target_network(new_state_tensor), dim=-1).values+reward_tensor\n",
    "    # expected_q_values *= reward_tensor\n",
    "\n",
    "    loss = criterion(q_values_for_actions_taken.squeeze(), expected_q_values)\n",
    "\n",
    "    loss.backward()\n",
    "    torch.nn.utils.clip_grad_value_(policy_network.parameters(), 100)\n",
    "    optimizer.step()"
   ]
  },
  {
   "cell_type": "code",
   "execution_count": null,
   "id": "925702a6",
   "metadata": {},
   "outputs": [],
   "source": [
    "env = gym.make(\"CartPole-v1\", render_mode=\"rgb_array\")"
   ]
  },
  {
   "cell_type": "code",
   "execution_count": null,
   "id": "4a8b9f8b",
   "metadata": {},
   "outputs": [],
   "source": [
    "obs_space = env.observation_space.shape[0]\n",
    "action_space = env.action_space.n.item()\n",
    "\n",
    "print(f\"Observation space is: {obs_space}\")\n",
    "print(f\"Action space is: {action_space}\")"
   ]
  },
  {
   "cell_type": "code",
   "execution_count": null,
   "id": "b2f39e3c",
   "metadata": {},
   "outputs": [],
   "source": [
    "policy_network = DQN(obs_space, action_space)\n",
    "target_network = DQN(obs_space, action_space)\n",
    "target_network.load_state_dict(policy_network.state_dict())"
   ]
  },
  {
   "cell_type": "code",
   "execution_count": null,
   "id": "c84b93ca",
   "metadata": {},
   "outputs": [],
   "source": [
    "replay_buffer = ReplayBuffer(MAX_MEMORY_LENGTH)"
   ]
  },
  {
   "cell_type": "code",
   "execution_count": null,
   "id": "2a7140db",
   "metadata": {},
   "outputs": [],
   "source": [
    "optimizer = torch.optim.AdamW(policy_network.parameters(), LEARNING_RATE, amsgrad=True)\n",
    "criterion = nn.SmoothL1Loss()"
   ]
  },
  {
   "cell_type": "code",
   "execution_count": null,
   "id": "73964d54",
   "metadata": {},
   "outputs": [],
   "source": [
    "episode_reward = []\n",
    "\n",
    "state, info = env.reset()\n",
    "episode_length = torch.tensor(0, dtype=torch.float64)\n",
    "for step in range(NUM_STEPS):\n",
    "    eps_threshold = EPS_END + (EPS_START - EPS_END) * \\\n",
    "        math.exp(-1. * step / EPS_DECAY)\n",
    "    \n",
    "    action = get_action(torch.tensor(state), policy_network, action_space, eps_threshold)\n",
    "    new_state, reward, terminated, truncated, _ = env.step(action)\n",
    "\n",
    "    episode_length += 1\n",
    "\n",
    "    if terminated or truncated:\n",
    "        env.reset()\n",
    "        episode_reward.append(episode_length)\n",
    "        episode_length = torch.tensor(0, dtype=torch.float64)\n",
    "        reward = 0\n",
    "\n",
    "    \n",
    "    replay_buffer.update(state, action, new_state, reward)\n",
    "\n",
    "    state = new_state\n",
    "\n",
    "    if len(replay_buffer) > BATCH_SIZE:\n",
    "        optimize_model(replay_buffer, policy_network, target_network, optimizer, criterion)\n",
    "\n",
    "    target_net_state_dict = target_network.state_dict()\n",
    "    policy_net_state_dict = policy_network.state_dict()\n",
    "    for key in policy_net_state_dict:\n",
    "        target_net_state_dict[key] = policy_net_state_dict[key]*TAU + target_net_state_dict[key]*(1-TAU)\n",
    "    target_network.load_state_dict(target_net_state_dict)\n",
    "\n",
    "    if len(episode_reward) > NUM_STEPS_TO_AVERAGE:\n",
    "        mean_episode_reward = torch.mean(torch.tensor(episode_reward))\n",
    "        episode_reward = []\n",
    "        print(f\"Step: {step}, mean episode reward: {mean_episode_reward}\")"
   ]
  }
 ],
 "metadata": {
  "kernelspec": {
   "display_name": "venv",
   "language": "python",
   "name": "python3"
  },
  "language_info": {
   "codemirror_mode": {
    "name": "ipython",
    "version": 3
   },
   "file_extension": ".py",
   "mimetype": "text/x-python",
   "name": "python",
   "nbconvert_exporter": "python",
   "pygments_lexer": "ipython3",
   "version": "3.13.5"
  }
 },
 "nbformat": 4,
 "nbformat_minor": 5
}
