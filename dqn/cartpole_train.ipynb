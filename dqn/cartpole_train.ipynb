{
 "cells": [
  {
   "cell_type": "code",
   "execution_count": 13,
   "id": "b8232429",
   "metadata": {},
   "outputs": [],
   "source": [
    "import torch\n",
    "from torch import nn\n",
    "import gymnasium as gym\n",
    "import math\n",
    "import numpy as np"
   ]
  },
  {
   "cell_type": "code",
   "execution_count": 14,
   "id": "4bf114b9",
   "metadata": {},
   "outputs": [],
   "source": [
    "EPS_START = 0.9\n",
    "EPS_END = 0.01\n",
    "EPS_DECAY = 3000\n",
    "\n",
    "BATCH_SIZE = 128\n",
    "MAX_MEMORY_LENGTH = 10_000\n",
    "GAMMA = 0.99\n",
    "TAU = 0.005\n",
    "\n",
    "NUM_STEPS = 1_000_000\n",
    "LEARNING_RATE = 1e-4\n",
    "NUM_STEPS_TO_AVERAGE = 10"
   ]
  },
  {
   "cell_type": "code",
   "execution_count": 15,
   "id": "31dfaaf9",
   "metadata": {},
   "outputs": [],
   "source": [
    "class DQN(nn.Module):\n",
    "    def __init__(self, obs_space, action_space):\n",
    "        super().__init__()\n",
    "\n",
    "        # Maps quality of each action at given state\n",
    "        self.fc = nn.Sequential(nn.Linear(obs_space, 128),\n",
    "                                nn.ReLU(),\n",
    "                                nn.Linear(128, 128),\n",
    "                                nn.ReLU(),\n",
    "                                nn.Linear(128, action_space))\n",
    "\n",
    "    def forward(self, state):\n",
    "        return self.fc(state)"
   ]
  },
  {
   "cell_type": "code",
   "execution_count": 16,
   "id": "262d910a",
   "metadata": {},
   "outputs": [],
   "source": [
    "class ReplayBuffer:\n",
    "    def __init__(self, max_size):\n",
    "        self._max_size = max_size\n",
    "\n",
    "        # Memory for storing transitions\n",
    "        self._memory = {\"state\": [],\n",
    "                       \"action\": [],\n",
    "                       \"new_state\": [],\n",
    "                       \"reward\": []}\n",
    "\n",
    "    def get_batch(self, batch_size):\n",
    "        if batch_size > len(self._memory[\"state\"]):\n",
    "            raise ValueError(\"Batch size must be smaller than the memory length\")\n",
    "\n",
    "        batch_indices = torch.randperm(len(self._memory[\"state\"]))[:batch_size]\n",
    "\n",
    "        states = torch.tensor(np.array(self._memory[\"state\"]))[batch_indices]\n",
    "        actions = torch.tensor(np.array(self._memory[\"action\"]))[batch_indices]\n",
    "        new_states = torch.tensor(np.array(self._memory[\"new_state\"]))[batch_indices]\n",
    "        rewards = torch.tensor(np.array(self._memory[\"reward\"]))[batch_indices]\n",
    "\n",
    "        return states, actions, new_states, rewards\n",
    "    \n",
    "    def update(self, state, action, new_state, reward):\n",
    "        self._memory[\"state\"].append(state)\n",
    "        self._memory[\"action\"].append(action)\n",
    "        self._memory[\"new_state\"].append(new_state)\n",
    "        self._memory[\"reward\"].append(reward)\n",
    "\n",
    "        if len(self._memory[\"state\"]) > self._max_size:\n",
    "            self._memory[\"state\"].pop(0)\n",
    "            self._memory[\"action\"].pop(0)\n",
    "            self._memory[\"new_state\"].pop(0)\n",
    "            self._memory[\"reward\"].pop(0)\n",
    "\n",
    "    def __len__(self):\n",
    "        return len(self._memory[\"state\"])"
   ]
  },
  {
   "cell_type": "code",
   "execution_count": 17,
   "id": "6aea6bde",
   "metadata": {},
   "outputs": [],
   "source": [
    "def get_action(state, policy_network, action_space, eps_threshold):\n",
    "    if torch.rand(1).item() > eps_threshold:\n",
    "        actions = policy_network(state)\n",
    "        return torch.argmax(actions).item()\n",
    "    else:\n",
    "        return torch.randint(action_space, (1,)).item()"
   ]
  },
  {
   "cell_type": "code",
   "execution_count": 18,
   "id": "46903df5",
   "metadata": {},
   "outputs": [],
   "source": [
    "def optimize_model(replay_buffer: ReplayBuffer, \n",
    "                   policy_network: torch.nn.Module, \n",
    "                   target_network: torch.nn.Module, \n",
    "                   optimizer: torch.optim.Adam, \n",
    "                   criterion: nn.SmoothL1Loss) -> None:\n",
    "    optimizer.zero_grad()\n",
    "    \n",
    "    state_tensor, action_tensor, new_state_tensor, reward_tensor = replay_buffer.get_batch(BATCH_SIZE)\n",
    "\n",
    "    # Get current q values for each action taken given a state\n",
    "    q_values_for_actions_taken = policy_network(state_tensor).gather(1, action_tensor.reshape(-1, 1))\n",
    "\n",
    "    expected_q_values = GAMMA*torch.max(target_network(new_state_tensor), dim=-1).values+reward_tensor\n",
    "    # expected_q_values *= reward_tensor\n",
    "\n",
    "    loss = criterion(q_values_for_actions_taken.squeeze(), expected_q_values)\n",
    "\n",
    "    loss.backward()\n",
    "    torch.nn.utils.clip_grad_value_(policy_network.parameters(), 100)\n",
    "    optimizer.step()"
   ]
  },
  {
   "cell_type": "code",
   "execution_count": 19,
   "id": "925702a6",
   "metadata": {},
   "outputs": [],
   "source": [
    "env = gym.make(\"CartPole-v1\", render_mode=\"rgb_array\")"
   ]
  },
  {
   "cell_type": "code",
   "execution_count": 20,
   "id": "4a8b9f8b",
   "metadata": {},
   "outputs": [
    {
     "name": "stdout",
     "output_type": "stream",
     "text": [
      "Observation space is: 4\n",
      "Action space is: 2\n"
     ]
    }
   ],
   "source": [
    "obs_space = env.observation_space.shape[0]\n",
    "action_space = env.action_space.n.item()\n",
    "\n",
    "print(f\"Observation space is: {obs_space}\")\n",
    "print(f\"Action space is: {action_space}\")"
   ]
  },
  {
   "cell_type": "code",
   "execution_count": 21,
   "id": "b2f39e3c",
   "metadata": {},
   "outputs": [
    {
     "data": {
      "text/plain": [
       "<All keys matched successfully>"
      ]
     },
     "execution_count": 21,
     "metadata": {},
     "output_type": "execute_result"
    }
   ],
   "source": [
    "policy_network = DQN(obs_space, action_space)\n",
    "target_network = DQN(obs_space, action_space)\n",
    "target_network.load_state_dict(policy_network.state_dict())"
   ]
  },
  {
   "cell_type": "code",
   "execution_count": 22,
   "id": "c84b93ca",
   "metadata": {},
   "outputs": [],
   "source": [
    "replay_buffer = ReplayBuffer(MAX_MEMORY_LENGTH)"
   ]
  },
  {
   "cell_type": "code",
   "execution_count": 23,
   "id": "2a7140db",
   "metadata": {},
   "outputs": [],
   "source": [
    "optimizer = torch.optim.AdamW(policy_network.parameters(), LEARNING_RATE, amsgrad=True)\n",
    "criterion = nn.SmoothL1Loss()"
   ]
  },
  {
   "cell_type": "code",
   "execution_count": 24,
   "id": "73964d54",
   "metadata": {},
   "outputs": [
    {
     "name": "stdout",
     "output_type": "stream",
     "text": [
      "Step: 197, mean episode reward: 18.0\n",
      "Step: 417, mean episode reward: 20.0\n",
      "Step: 602, mean episode reward: 16.818181818181817\n",
      "Step: 783, mean episode reward: 16.454545454545453\n",
      "Step: 916, mean episode reward: 12.090909090909092\n",
      "Step: 1130, mean episode reward: 19.454545454545453\n",
      "Step: 1310, mean episode reward: 16.363636363636363\n",
      "Step: 1558, mean episode reward: 22.545454545454547\n",
      "Step: 1879, mean episode reward: 29.181818181818183\n",
      "Step: 2256, mean episode reward: 34.27272727272727\n",
      "Step: 2569, mean episode reward: 28.454545454545453\n",
      "Step: 3345, mean episode reward: 70.54545454545455\n",
      "Step: 5435, mean episode reward: 190.0\n",
      "Step: 8892, mean episode reward: 314.27272727272725\n",
      "Step: 14004, mean episode reward: 464.72727272727275\n",
      "Step: 16310, mean episode reward: 209.63636363636363\n",
      "Step: 16990, mean episode reward: 61.81818181818182\n",
      "Step: 17530, mean episode reward: 49.09090909090909\n",
      "Step: 18019, mean episode reward: 44.45454545454545\n",
      "Step: 19958, mean episode reward: 176.27272727272728\n",
      "Step: 23398, mean episode reward: 312.72727272727275\n",
      "Step: 26664, mean episode reward: 296.90909090909093\n",
      "Step: 29748, mean episode reward: 280.3636363636364\n",
      "Step: 33436, mean episode reward: 335.27272727272725\n",
      "Step: 36767, mean episode reward: 302.8181818181818\n",
      "Step: 40850, mean episode reward: 371.1818181818182\n",
      "Step: 42455, mean episode reward: 145.9090909090909\n",
      "Step: 43657, mean episode reward: 109.27272727272727\n",
      "Step: 44977, mean episode reward: 120.0\n",
      "Step: 45937, mean episode reward: 87.27272727272727\n",
      "Step: 46737, mean episode reward: 72.72727272727273\n",
      "Step: 47443, mean episode reward: 64.18181818181819\n",
      "Step: 49389, mean episode reward: 176.9090909090909\n",
      "Step: 51556, mean episode reward: 197.0\n",
      "Step: 52634, mean episode reward: 98.0\n",
      "Step: 53681, mean episode reward: 95.18181818181819\n",
      "Step: 54634, mean episode reward: 86.63636363636364\n",
      "Step: 55512, mean episode reward: 79.81818181818181\n",
      "Step: 56384, mean episode reward: 79.27272727272727\n",
      "Step: 57309, mean episode reward: 84.0909090909091\n",
      "Step: 59434, mean episode reward: 193.1818181818182\n",
      "Step: 60983, mean episode reward: 140.8181818181818\n",
      "Step: 61900, mean episode reward: 83.36363636363636\n",
      "Step: 62658, mean episode reward: 68.9090909090909\n",
      "Step: 63388, mean episode reward: 66.36363636363636\n",
      "Step: 64109, mean episode reward: 65.54545454545455\n",
      "Step: 65051, mean episode reward: 85.63636363636364\n",
      "Step: 66132, mean episode reward: 98.27272727272727\n",
      "Step: 67004, mean episode reward: 79.27272727272727\n",
      "Step: 69210, mean episode reward: 200.54545454545453\n",
      "Step: 73623, mean episode reward: 401.1818181818182\n",
      "Step: 78874, mean episode reward: 477.3636363636364\n",
      "Step: 83541, mean episode reward: 424.27272727272725\n",
      "Step: 88047, mean episode reward: 409.6363636363636\n",
      "Step: 92949, mean episode reward: 445.6363636363636\n",
      "Step: 97245, mean episode reward: 390.54545454545456\n",
      "Step: 102745, mean episode reward: 500.0\n",
      "Step: 108245, mean episode reward: 500.0\n",
      "Step: 113688, mean episode reward: 494.8181818181818\n",
      "Step: 118904, mean episode reward: 474.1818181818182\n",
      "Step: 124404, mean episode reward: 500.0\n",
      "Step: 129904, mean episode reward: 500.0\n",
      "Step: 135404, mean episode reward: 500.0\n",
      "Step: 140904, mean episode reward: 500.0\n",
      "Step: 146404, mean episode reward: 500.0\n",
      "Step: 151904, mean episode reward: 500.0\n",
      "Step: 157404, mean episode reward: 500.0\n",
      "Step: 162904, mean episode reward: 500.0\n",
      "Step: 168404, mean episode reward: 500.0\n",
      "Step: 173904, mean episode reward: 500.0\n",
      "Step: 179404, mean episode reward: 500.0\n",
      "Step: 184904, mean episode reward: 500.0\n",
      "Step: 190404, mean episode reward: 500.0\n",
      "Step: 195904, mean episode reward: 500.0\n",
      "Step: 201404, mean episode reward: 500.0\n"
     ]
    },
    {
     "ename": "KeyboardInterrupt",
     "evalue": "",
     "output_type": "error",
     "traceback": [
      "\u001b[31m---------------------------------------------------------------------------\u001b[39m",
      "\u001b[31mKeyboardInterrupt\u001b[39m                         Traceback (most recent call last)",
      "\u001b[36mCell\u001b[39m\u001b[36m \u001b[39m\u001b[32mIn[24]\u001b[39m\u001b[32m, line 26\u001b[39m\n\u001b[32m     23\u001b[39m state = new_state\n\u001b[32m     25\u001b[39m \u001b[38;5;28;01mif\u001b[39;00m \u001b[38;5;28mlen\u001b[39m(replay_buffer) > BATCH_SIZE:\n\u001b[32m---> \u001b[39m\u001b[32m26\u001b[39m     \u001b[43moptimize_model\u001b[49m\u001b[43m(\u001b[49m\u001b[43mreplay_buffer\u001b[49m\u001b[43m,\u001b[49m\u001b[43m \u001b[49m\u001b[43mpolicy_network\u001b[49m\u001b[43m,\u001b[49m\u001b[43m \u001b[49m\u001b[43mtarget_network\u001b[49m\u001b[43m,\u001b[49m\u001b[43m \u001b[49m\u001b[43moptimizer\u001b[49m\u001b[43m,\u001b[49m\u001b[43m \u001b[49m\u001b[43mcriterion\u001b[49m\u001b[43m)\u001b[49m\n\u001b[32m     28\u001b[39m target_net_state_dict = target_network.state_dict()\n\u001b[32m     29\u001b[39m policy_net_state_dict = policy_network.state_dict()\n",
      "\u001b[36mCell\u001b[39m\u001b[36m \u001b[39m\u001b[32mIn[18]\u001b[39m\u001b[32m, line 8\u001b[39m, in \u001b[36moptimize_model\u001b[39m\u001b[34m(replay_buffer, policy_network, target_network, optimizer, criterion)\u001b[39m\n\u001b[32m      1\u001b[39m \u001b[38;5;28;01mdef\u001b[39;00m\u001b[38;5;250m \u001b[39m\u001b[34moptimize_model\u001b[39m(replay_buffer: ReplayBuffer, \n\u001b[32m      2\u001b[39m                    policy_network: torch.nn.Module, \n\u001b[32m      3\u001b[39m                    target_network: torch.nn.Module, \n\u001b[32m      4\u001b[39m                    optimizer: torch.optim.Adam, \n\u001b[32m      5\u001b[39m                    criterion: nn.SmoothL1Loss) -> \u001b[38;5;28;01mNone\u001b[39;00m:\n\u001b[32m      6\u001b[39m     optimizer.zero_grad()\n\u001b[32m----> \u001b[39m\u001b[32m8\u001b[39m     state_tensor, action_tensor, new_state_tensor, reward_tensor = \u001b[43mreplay_buffer\u001b[49m\u001b[43m.\u001b[49m\u001b[43mget_batch\u001b[49m\u001b[43m(\u001b[49m\u001b[43mBATCH_SIZE\u001b[49m\u001b[43m)\u001b[49m\n\u001b[32m     10\u001b[39m     \u001b[38;5;66;03m# Get current q values for each action taken given a state\u001b[39;00m\n\u001b[32m     11\u001b[39m     q_values_for_actions_taken = policy_network(state_tensor).gather(\u001b[32m1\u001b[39m, action_tensor.reshape(-\u001b[32m1\u001b[39m, \u001b[32m1\u001b[39m))\n",
      "\u001b[36mCell\u001b[39m\u001b[36m \u001b[39m\u001b[32mIn[16]\u001b[39m\u001b[32m, line 17\u001b[39m, in \u001b[36mReplayBuffer.get_batch\u001b[39m\u001b[34m(self, batch_size)\u001b[39m\n\u001b[32m     13\u001b[39m     \u001b[38;5;28;01mraise\u001b[39;00m \u001b[38;5;167;01mValueError\u001b[39;00m(\u001b[33m\"\u001b[39m\u001b[33mBatch size must be smaller than the memory length\u001b[39m\u001b[33m\"\u001b[39m)\n\u001b[32m     15\u001b[39m batch_indices = torch.randperm(\u001b[38;5;28mlen\u001b[39m(\u001b[38;5;28mself\u001b[39m._memory[\u001b[33m\"\u001b[39m\u001b[33mstate\u001b[39m\u001b[33m\"\u001b[39m]))[:batch_size]\n\u001b[32m---> \u001b[39m\u001b[32m17\u001b[39m states = torch.tensor(\u001b[43mnp\u001b[49m\u001b[43m.\u001b[49m\u001b[43marray\u001b[49m\u001b[43m(\u001b[49m\u001b[38;5;28;43mself\u001b[39;49m\u001b[43m.\u001b[49m\u001b[43m_memory\u001b[49m\u001b[43m[\u001b[49m\u001b[33;43m\"\u001b[39;49m\u001b[33;43mstate\u001b[39;49m\u001b[33;43m\"\u001b[39;49m\u001b[43m]\u001b[49m\u001b[43m)\u001b[49m)[batch_indices]\n\u001b[32m     18\u001b[39m actions = torch.tensor(np.array(\u001b[38;5;28mself\u001b[39m._memory[\u001b[33m\"\u001b[39m\u001b[33maction\u001b[39m\u001b[33m\"\u001b[39m]))[batch_indices]\n\u001b[32m     19\u001b[39m new_states = torch.tensor(np.array(\u001b[38;5;28mself\u001b[39m._memory[\u001b[33m\"\u001b[39m\u001b[33mnew_state\u001b[39m\u001b[33m\"\u001b[39m]))[batch_indices]\n",
      "\u001b[31mKeyboardInterrupt\u001b[39m: "
     ]
    }
   ],
   "source": [
    "episode_reward = []\n",
    "\n",
    "state, info = env.reset()\n",
    "episode_length = torch.tensor(0, dtype=torch.float64)\n",
    "for step in range(NUM_STEPS):\n",
    "    eps_threshold = EPS_END + (EPS_START - EPS_END) * \\\n",
    "        math.exp(-1. * step / EPS_DECAY)\n",
    "    \n",
    "    action = get_action(torch.tensor(state), policy_network, action_space, eps_threshold)\n",
    "    new_state, reward, terminated, truncated, _ = env.step(action)\n",
    "\n",
    "    episode_length += 1\n",
    "\n",
    "    if terminated or truncated:\n",
    "        env.reset()\n",
    "        episode_reward.append(episode_length)\n",
    "        episode_length = torch.tensor(0, dtype=torch.float64)\n",
    "        reward = 0\n",
    "\n",
    "    \n",
    "    replay_buffer.update(state, action, new_state, reward)\n",
    "\n",
    "    state = new_state\n",
    "\n",
    "    if len(replay_buffer) > BATCH_SIZE:\n",
    "        optimize_model(replay_buffer, policy_network, target_network, optimizer, criterion)\n",
    "\n",
    "    target_net_state_dict = target_network.state_dict()\n",
    "    policy_net_state_dict = policy_network.state_dict()\n",
    "    for key in policy_net_state_dict:\n",
    "        target_net_state_dict[key] = policy_net_state_dict[key]*TAU + target_net_state_dict[key]*(1-TAU)\n",
    "    target_network.load_state_dict(target_net_state_dict)\n",
    "\n",
    "    if len(episode_reward) > NUM_STEPS_TO_AVERAGE:\n",
    "        mean_episode_reward = torch.mean(torch.tensor(episode_reward))\n",
    "        episode_reward = []\n",
    "        print(f\"Step: {step}, mean episode reward: {mean_episode_reward}\")"
   ]
  },
  {
   "cell_type": "code",
   "execution_count": 27,
   "id": "de75dc27",
   "metadata": {},
   "outputs": [],
   "source": [
    "torch.save(policy_network.state_dict(), \"dqn_trained.pth\")"
   ]
  }
 ],
 "metadata": {
  "kernelspec": {
   "display_name": "venv",
   "language": "python",
   "name": "python3"
  },
  "language_info": {
   "codemirror_mode": {
    "name": "ipython",
    "version": 3
   },
   "file_extension": ".py",
   "mimetype": "text/x-python",
   "name": "python",
   "nbconvert_exporter": "python",
   "pygments_lexer": "ipython3",
   "version": "3.13.5"
  }
 },
 "nbformat": 4,
 "nbformat_minor": 5
}
