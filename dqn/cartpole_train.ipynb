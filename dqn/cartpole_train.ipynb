{
 "cells": [
  {
   "cell_type": "code",
   "execution_count": 13,
   "id": "b8232429",
   "metadata": {},
   "outputs": [],
   "source": [
    "import torch\n",
    "from torch import nn\n",
    "import gymnasium as gym\n",
    "import math"
   ]
  },
  {
   "cell_type": "code",
   "execution_count": 102,
   "id": "4bf114b9",
   "metadata": {},
   "outputs": [],
   "source": [
    "EPS_START = 0.9\n",
    "EPS_END = 0.01\n",
    "EPS_DECAY = 1000\n",
    "\n",
    "BATCH_SIZE = 128\n",
    "MAX_MEMORY_LENGTH = 1000\n",
    "GAMMA = 0.99\n",
    "TAU = 0.005\n",
    "\n",
    "NUM_STEPS = 1_000_000\n",
    "REPORT_EVERY = 100\n",
    "LEARNING_RATE = 1e-5\n",
    "NUM_STEPS_TO_AVERAGE = 100"
   ]
  },
  {
   "cell_type": "code",
   "execution_count": 103,
   "id": "31dfaaf9",
   "metadata": {},
   "outputs": [],
   "source": [
    "class DQN(nn.Module):\n",
    "    def __init__(self, obs_space, action_space):\n",
    "        super().__init__()\n",
    "\n",
    "        # Maps quality of each action at given state\n",
    "        self.fc = nn.Sequential(nn.Linear(obs_space, 32),\n",
    "                                nn.ReLU(),\n",
    "                                nn.Linear(32, 32),\n",
    "                                nn.ReLU(),\n",
    "                                nn.Linear(32, action_space))\n",
    "\n",
    "    def forward(self, state):\n",
    "        return self.fc(state)"
   ]
  },
  {
   "cell_type": "code",
   "execution_count": 104,
   "id": "262d910a",
   "metadata": {},
   "outputs": [],
   "source": [
    "class ReplayBuffer:\n",
    "    def __init__(self, max_size):\n",
    "        self._max_size = max_size\n",
    "\n",
    "        # Memory for storing transitions\n",
    "        self._memory = {\"state\": [],\n",
    "                       \"action\": [],\n",
    "                       \"new_state\": [],\n",
    "                       \"reward\": []}\n",
    "\n",
    "    def get_batch(self, batch_size):\n",
    "        if batch_size > len(self._memory[\"state\"]):\n",
    "            raise ValueError(\"Batch size must be smaller than the memory length\")\n",
    "\n",
    "        batch_indices = torch.randperm(len(self._memory[\"state\"]))[:batch_size]\n",
    "\n",
    "        states = torch.tensor(self._memory[\"state\"])[batch_indices]\n",
    "        actions = torch.tensor(self._memory[\"action\"])[batch_indices]\n",
    "        new_states = torch.tensor(self._memory[\"new_state\"])[batch_indices]\n",
    "        rewards = torch.tensor(self._memory[\"reward\"])[batch_indices]\n",
    "\n",
    "        return states, actions, new_states, rewards\n",
    "    \n",
    "    def update(self, state, action, new_state, reward):\n",
    "        self._memory[\"state\"].append(state)\n",
    "        self._memory[\"action\"].append(action)\n",
    "        self._memory[\"new_state\"].append(new_state)\n",
    "        self._memory[\"reward\"].append(reward)\n",
    "\n",
    "        if len(self._memory[\"state\"]) > self._max_size:\n",
    "            self._memory[\"state\"].pop(0)\n",
    "            self._memory[\"action\"].pop(0)\n",
    "            self._memory[\"new_state\"].pop(0)\n",
    "            self._memory[\"reward\"].pop(0)\n",
    "\n",
    "    def __len__(self):\n",
    "        return len(self._memory[\"state\"])"
   ]
  },
  {
   "cell_type": "code",
   "execution_count": 105,
   "id": "6aea6bde",
   "metadata": {},
   "outputs": [],
   "source": [
    "def get_action(state, policy_network, action_space, eps_threshold):\n",
    "    if torch.rand(1).item() > eps_threshold:\n",
    "        actions = policy_network(state)\n",
    "        return torch.argmax(actions).item()\n",
    "    else:\n",
    "        return torch.randint(action_space, (1,)).item()"
   ]
  },
  {
   "cell_type": "code",
   "execution_count": 113,
   "id": "46903df5",
   "metadata": {},
   "outputs": [],
   "source": [
    "def optimize_model(replay_buffer: ReplayBuffer, \n",
    "                   policy_network: torch.nn.Module, \n",
    "                   target_network: torch.nn.Module, \n",
    "                   optimizer: torch.optim.Adam, \n",
    "                   criterion: nn.SmoothL1Loss) -> None:\n",
    "    optimizer.zero_grad()\n",
    "    \n",
    "    state_tensor, action_tensor, new_state_tensor, reward_tensor = replay_buffer.get_batch(BATCH_SIZE)\n",
    "\n",
    "    # Get current q values for each action taken given a state\n",
    "    q_values_for_actions_taken = policy_network(state_tensor)[0, action_tensor]\n",
    "\n",
    "    expected_q_values = GAMMA*torch.max(target_network(new_state_tensor), dim=-1).values+reward_tensor\n",
    "    expected_q_values *= reward_tensor\n",
    "\n",
    "    loss = criterion(q_values_for_actions_taken, expected_q_values)\n",
    "\n",
    "    loss.backward()\n",
    "    torch.nn.utils.clip_grad_value_(policy_network.parameters(), 100)\n",
    "    optimizer.step()"
   ]
  },
  {
   "cell_type": "code",
   "execution_count": 114,
   "id": "925702a6",
   "metadata": {},
   "outputs": [],
   "source": [
    "env = gym.make(\"CartPole-v1\", render_mode=\"rgb_array\")"
   ]
  },
  {
   "cell_type": "code",
   "execution_count": 115,
   "id": "4a8b9f8b",
   "metadata": {},
   "outputs": [
    {
     "name": "stdout",
     "output_type": "stream",
     "text": [
      "Observation space is: 4\n",
      "Action space is: 2\n"
     ]
    }
   ],
   "source": [
    "obs_space = env.observation_space.shape[0]\n",
    "action_space = env.action_space.n.item()\n",
    "\n",
    "print(f\"Observation space is: {obs_space}\")\n",
    "print(f\"Action space is: {action_space}\")"
   ]
  },
  {
   "cell_type": "code",
   "execution_count": 116,
   "id": "b2f39e3c",
   "metadata": {},
   "outputs": [
    {
     "data": {
      "text/plain": [
       "<All keys matched successfully>"
      ]
     },
     "execution_count": 116,
     "metadata": {},
     "output_type": "execute_result"
    }
   ],
   "source": [
    "policy_network = DQN(obs_space, action_space)\n",
    "target_network = DQN(obs_space, action_space)\n",
    "target_network.load_state_dict(policy_network.state_dict())"
   ]
  },
  {
   "cell_type": "code",
   "execution_count": 117,
   "id": "c84b93ca",
   "metadata": {},
   "outputs": [],
   "source": [
    "replay_buffer = ReplayBuffer(MAX_MEMORY_LENGTH)"
   ]
  },
  {
   "cell_type": "code",
   "execution_count": 118,
   "id": "2a7140db",
   "metadata": {},
   "outputs": [],
   "source": [
    "optimizer = torch.optim.Adam(policy_network.parameters(), LEARNING_RATE)\n",
    "criterion = nn.SmoothL1Loss()"
   ]
  },
  {
   "cell_type": "code",
   "execution_count": 119,
   "id": "73964d54",
   "metadata": {},
   "outputs": [
    {
     "name": "stdout",
     "output_type": "stream",
     "text": [
      "Step: 1437, mean episode reward: 14.237623762376238\n",
      "Step: 2482, mean episode reward: 10.346534653465346\n",
      "Step: 3443, mean episode reward: 9.514851485148515\n",
      "Step: 4398, mean episode reward: 9.455445544554456\n",
      "Step: 5363, mean episode reward: 9.554455445544555\n",
      "Step: 6329, mean episode reward: 9.564356435643564\n",
      "Step: 7295, mean episode reward: 9.564356435643564\n",
      "Step: 8243, mean episode reward: 9.386138613861386\n",
      "Step: 9183, mean episode reward: 9.306930693069306\n",
      "Step: 10143, mean episode reward: 9.504950495049505\n",
      "Step: 11099, mean episode reward: 9.465346534653465\n",
      "Step: 12044, mean episode reward: 9.356435643564357\n",
      "Step: 12997, mean episode reward: 9.435643564356436\n",
      "Step: 13937, mean episode reward: 9.306930693069306\n",
      "Step: 14895, mean episode reward: 9.485148514851485\n",
      "Step: 15839, mean episode reward: 9.346534653465346\n",
      "Step: 16773, mean episode reward: 9.247524752475247\n",
      "Step: 17722, mean episode reward: 9.396039603960396\n",
      "Step: 18669, mean episode reward: 9.376237623762377\n",
      "Step: 19620, mean episode reward: 9.415841584158416\n",
      "Step: 20569, mean episode reward: 9.396039603960396\n",
      "Step: 21514, mean episode reward: 9.356435643564357\n",
      "Step: 22466, mean episode reward: 9.425742574257425\n",
      "Step: 23409, mean episode reward: 9.336633663366337\n",
      "Step: 24357, mean episode reward: 9.386138613861386\n"
     ]
    },
    {
     "ename": "KeyboardInterrupt",
     "evalue": "",
     "output_type": "error",
     "traceback": [
      "\u001b[31m---------------------------------------------------------------------------\u001b[39m",
      "\u001b[31mKeyboardInterrupt\u001b[39m                         Traceback (most recent call last)",
      "\u001b[36mCell\u001b[39m\u001b[36m \u001b[39m\u001b[32mIn[119]\u001b[39m\u001b[32m, line 23\u001b[39m\n\u001b[32m     20\u001b[39m replay_buffer.update(state, action, new_state, reward)\n\u001b[32m     22\u001b[39m \u001b[38;5;28;01mif\u001b[39;00m \u001b[38;5;28mlen\u001b[39m(replay_buffer) > BATCH_SIZE:\n\u001b[32m---> \u001b[39m\u001b[32m23\u001b[39m     \u001b[43moptimize_model\u001b[49m\u001b[43m(\u001b[49m\u001b[43mreplay_buffer\u001b[49m\u001b[43m,\u001b[49m\u001b[43m \u001b[49m\u001b[43mpolicy_network\u001b[49m\u001b[43m,\u001b[49m\u001b[43m \u001b[49m\u001b[43mtarget_network\u001b[49m\u001b[43m,\u001b[49m\u001b[43m \u001b[49m\u001b[43moptimizer\u001b[49m\u001b[43m,\u001b[49m\u001b[43m \u001b[49m\u001b[43mcriterion\u001b[49m\u001b[43m)\u001b[49m\n\u001b[32m     25\u001b[39m target_net_state_dict = target_network.state_dict()\n\u001b[32m     26\u001b[39m policy_net_state_dict = policy_network.state_dict()\n",
      "\u001b[36mCell\u001b[39m\u001b[36m \u001b[39m\u001b[32mIn[113]\u001b[39m\u001b[32m, line 8\u001b[39m, in \u001b[36moptimize_model\u001b[39m\u001b[34m(replay_buffer, policy_network, target_network, optimizer, criterion)\u001b[39m\n\u001b[32m      1\u001b[39m \u001b[38;5;28;01mdef\u001b[39;00m\u001b[38;5;250m \u001b[39m\u001b[34moptimize_model\u001b[39m(replay_buffer: ReplayBuffer, \n\u001b[32m      2\u001b[39m                    policy_network: torch.nn.Module, \n\u001b[32m      3\u001b[39m                    target_network: torch.nn.Module, \n\u001b[32m      4\u001b[39m                    optimizer: torch.optim.Adam, \n\u001b[32m      5\u001b[39m                    criterion: nn.SmoothL1Loss) -> \u001b[38;5;28;01mNone\u001b[39;00m:\n\u001b[32m      6\u001b[39m     optimizer.zero_grad()\n\u001b[32m----> \u001b[39m\u001b[32m8\u001b[39m     state_tensor, action_tensor, new_state_tensor, reward_tensor = \u001b[43mreplay_buffer\u001b[49m\u001b[43m.\u001b[49m\u001b[43mget_batch\u001b[49m\u001b[43m(\u001b[49m\u001b[43mBATCH_SIZE\u001b[49m\u001b[43m)\u001b[49m\n\u001b[32m     10\u001b[39m     \u001b[38;5;66;03m# Get current q values for each action taken given a state\u001b[39;00m\n\u001b[32m     11\u001b[39m     q_values_for_actions_taken = policy_network(state_tensor)[\u001b[32m0\u001b[39m, action_tensor]\n",
      "\u001b[36mCell\u001b[39m\u001b[36m \u001b[39m\u001b[32mIn[104]\u001b[39m\u001b[32m, line 17\u001b[39m, in \u001b[36mReplayBuffer.get_batch\u001b[39m\u001b[34m(self, batch_size)\u001b[39m\n\u001b[32m     13\u001b[39m     \u001b[38;5;28;01mraise\u001b[39;00m \u001b[38;5;167;01mValueError\u001b[39;00m(\u001b[33m\"\u001b[39m\u001b[33mBatch size must be smaller than the memory length\u001b[39m\u001b[33m\"\u001b[39m)\n\u001b[32m     15\u001b[39m batch_indices = torch.randperm(\u001b[38;5;28mlen\u001b[39m(\u001b[38;5;28mself\u001b[39m._memory[\u001b[33m\"\u001b[39m\u001b[33mstate\u001b[39m\u001b[33m\"\u001b[39m]))[:batch_size]\n\u001b[32m---> \u001b[39m\u001b[32m17\u001b[39m states = \u001b[43mtorch\u001b[49m\u001b[43m.\u001b[49m\u001b[43mtensor\u001b[49m\u001b[43m(\u001b[49m\u001b[38;5;28;43mself\u001b[39;49m\u001b[43m.\u001b[49m\u001b[43m_memory\u001b[49m\u001b[43m[\u001b[49m\u001b[33;43m\"\u001b[39;49m\u001b[33;43mstate\u001b[39;49m\u001b[33;43m\"\u001b[39;49m\u001b[43m]\u001b[49m\u001b[43m)\u001b[49m[batch_indices]\n\u001b[32m     18\u001b[39m actions = torch.tensor(\u001b[38;5;28mself\u001b[39m._memory[\u001b[33m\"\u001b[39m\u001b[33maction\u001b[39m\u001b[33m\"\u001b[39m])[batch_indices]\n\u001b[32m     19\u001b[39m new_states = torch.tensor(\u001b[38;5;28mself\u001b[39m._memory[\u001b[33m\"\u001b[39m\u001b[33mnew_state\u001b[39m\u001b[33m\"\u001b[39m])[batch_indices]\n",
      "\u001b[31mKeyboardInterrupt\u001b[39m: "
     ]
    }
   ],
   "source": [
    "episode_reward = []\n",
    "\n",
    "state, info = env.reset()\n",
    "episode_length = torch.tensor(0, dtype=torch.float64)\n",
    "for step in range(NUM_STEPS):\n",
    "    eps_threshold = EPS_END + (EPS_START - EPS_END) * \\\n",
    "        math.exp(-1. * step / EPS_DECAY)\n",
    "    \n",
    "    action = get_action(torch.tensor(state), policy_network, action_space, eps_threshold)\n",
    "    new_state, reward, terminated, truncated, _ = env.step(action)\n",
    "\n",
    "    episode_length += 1\n",
    "\n",
    "    if terminated or truncated:\n",
    "        env.reset()\n",
    "        episode_reward.append(episode_length)\n",
    "        episode_length = torch.tensor(0, dtype=torch.float64)\n",
    "        reward = 0\n",
    "\n",
    "    replay_buffer.update(state, action, new_state, reward)\n",
    "\n",
    "    if len(replay_buffer) > BATCH_SIZE:\n",
    "        optimize_model(replay_buffer, policy_network, target_network, optimizer, criterion)\n",
    "\n",
    "    target_net_state_dict = target_network.state_dict()\n",
    "    policy_net_state_dict = policy_network.state_dict()\n",
    "    for key in policy_net_state_dict:\n",
    "        target_net_state_dict[key] = policy_net_state_dict[key]*TAU + target_net_state_dict[key]*(1-TAU)\n",
    "    target_network.load_state_dict(target_net_state_dict)\n",
    "\n",
    "    if len(episode_reward) > NUM_STEPS_TO_AVERAGE:\n",
    "        mean_episode_reward = torch.mean(torch.tensor(episode_reward))\n",
    "        episode_reward = []\n",
    "        print(f\"Step: {step}, mean episode reward: {mean_episode_reward}\")"
   ]
  },
  {
   "cell_type": "code",
   "execution_count": null,
   "id": "3a3b16d0",
   "metadata": {},
   "outputs": [],
   "source": [
    "\n",
    "\n",
    "\n",
    "\n"
   ]
  },
  {
   "cell_type": "code",
   "execution_count": null,
   "id": "73a89aa1",
   "metadata": {},
   "outputs": [],
   "source": []
  }
 ],
 "metadata": {
  "kernelspec": {
   "display_name": "venv",
   "language": "python",
   "name": "python3"
  },
  "language_info": {
   "codemirror_mode": {
    "name": "ipython",
    "version": 3
   },
   "file_extension": ".py",
   "mimetype": "text/x-python",
   "name": "python",
   "nbconvert_exporter": "python",
   "pygments_lexer": "ipython3",
   "version": "3.13.5"
  }
 },
 "nbformat": 4,
 "nbformat_minor": 5
}
